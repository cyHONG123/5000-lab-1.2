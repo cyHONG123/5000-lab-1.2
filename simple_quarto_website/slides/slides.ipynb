{
 "cells": [
  {
   "cell_type": "markdown",
   "metadata": {
    "slideshow": {
     "slide_type": "slide"
    }
   },
   "source": [
    "---\n",
    "title: \"Lab 1.2\"\n",
    "author: \"Chongyuan Hong\"\n",
    "execute: \n",
    "  echo: true\n",
    "jupyter: python3\n",
    "format: \n",
    "  revealjs:\n",
    "    bibliography: ../reference.bib\n",
    "    echo: true\n",
    "    code-fold: true\n",
    "---\n",
    "\n",
    "## Slide 1\n",
    "- Hello\n",
    "- How are you?\n",
    "- Click me[@lecun2015deep]\n"
   ]
  },
  {
   "cell_type": "code",
   "execution_count": 2,
   "metadata": {},
   "outputs": [
    {
     "name": "stdout",
     "output_type": "stream",
     "text": [
      "hello\n",
      "A python code print this sentence\n",
      "list[1, 2, 3, 4, 5]\n"
     ]
    }
   ],
   "source": [
    "print(\"hello\")\n",
    "print(\"A python code print this sentence\")\n",
    "print(list[1, 2, 3, 4, 5])"
   ]
  },
  {
   "cell_type": "markdown",
   "metadata": {},
   "source": [
    "## Slide 2\n",
    "\n",
    "- What is that?\n",
    "- $$x = y + c*2 - sqrt(3)$$\n",
    "![](../images/pic1.jpg)\n",
    "\n",
    "## Slide 3\n",
    "![](../images/Unknown.jpeg)\n",
    "- Good Bye!"
   ]
  }
 ],
 "metadata": {
  "kernelspec": {
   "display_name": "Python 3",
   "language": "python",
   "name": "python3"
  },
  "language_info": {
   "codemirror_mode": {
    "name": "ipython",
    "version": 3
   },
   "file_extension": ".py",
   "mimetype": "text/x-python",
   "name": "python",
   "nbconvert_exporter": "python",
   "pygments_lexer": "ipython3",
   "version": "3.12.0"
  }
 },
 "nbformat": 4,
 "nbformat_minor": 2
}
